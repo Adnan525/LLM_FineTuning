{
  "nbformat": 4,
  "nbformat_minor": 0,
  "metadata": {
    "colab": {
      "provenance": [],
      "gpuType": "T4",
      "authorship_tag": "ABX9TyN+gHSLmZataHwpCXs4rD6k",
      "include_colab_link": true
    },
    "kernelspec": {
      "name": "python3",
      "display_name": "Python 3"
    },
    "language_info": {
      "name": "python"
    },
    "accelerator": "GPU"
  },
  "cells": [
    {
      "cell_type": "markdown",
      "metadata": {
        "id": "view-in-github",
        "colab_type": "text"
      },
      "source": [
        "<a href=\"https://colab.research.google.com/github/Adnan525/LLM_FineTuning/blob/main/Finetuning.ipynb\" target=\"_parent\"><img src=\"https://colab.research.google.com/assets/colab-badge.svg\" alt=\"Open In Colab\"/></a>"
      ]
    },
    {
      "cell_type": "code",
      "execution_count": null,
      "metadata": {
        "id": "jNmYnYv-HVIA"
      },
      "outputs": [],
      "source": [
        "# -------------------------------------------------------------------------------------------------------------\n",
        "# Project: Open Source Institute-Cognitive System of Machine Intelligent Computing (OpenSI-CoSMIC)\n",
        "# Contributors:\n",
        "#     Adnan, Muntasir <adnan.adnan@canberra.edu.au>\n",
        "#     Kuhn, Carlos C. N. <Carlos.NoschangKuhn@canberra.edu.au>\n",
        "#\n",
        "# Copyright (c) 2025 Open Source Institute\n",
        "#\n",
        "# Permission is hereby granted, free of charge, to any person obtaining a copy of this software and associated\n",
        "# documentation files (the \"Software\"), to deal in the Software without restriction, including without\n",
        "# limitation the rights to use, copy, modify, merge, publish, distribute, sublicense, and/or sell copies of\n",
        "# the Software, and to permit persons to whom the Software is furnished to do so, subject to the following\n",
        "# conditions:\n",
        "#\n",
        "# The above copyright notice and this permission notice shall be included in all copies or substantial\n",
        "# portions of the Software.\n",
        "#\n",
        "# THE SOFTWARE IS PROVIDED \"AS IS\", WITHOUT WARRANTY OF ANY KIND, EXPRESS OR IMPLIED, INCLUDING BUT NOT\n",
        "# LIMITED TO THE WARRANTIES OF MERCHANTABILITY, FITNESS FOR A PARTICULAR PURPOSE AND NONINFRINGEMENT.\n",
        "# IN NO EVENT SHALL THE AUTHORS OR COPYRIGHT HOLDERS BE LIABLE FOR ANY CLAIM, DAMAGES OR OTHER\n",
        "# LIABILITY, WHETHER IN AN ACTION OF CONTRACT, TORT OR OTHERWISE, ARISING FROM, OUT OF OR IN CONNECTION\n",
        "# WITH THE SOFTWARE OR THE USE OR OTHER DEALINGS IN THE SOFTWARE.\n",
        "# -------------------------------------------------------------------------------------------------------------"
      ]
    },
    {
      "cell_type": "code",
      "source": [
        "# =================================================================================\n",
        "# COMPREHENSIVE LLM FINE-TUNING TUTORIAL\n",
        "# =================================================================================\n",
        "# A complete guide to fine-tuning language models using modern techniques:\n",
        "# - LoRA (Low-Rank Adaptation)\n",
        "# - 4-bit Quantization\n",
        "# - Supervised Fine-Tuning (SFT)\n",
        "# - Full tokenization and masking deep-dive"
      ],
      "metadata": {
        "id": "Whd0jYGOH4_z"
      },
      "execution_count": null,
      "outputs": []
    },
    {
      "cell_type": "code",
      "source": [
        "print(\"=\" * 80)\n",
        "print(\"SECTION 1: Installing Required Libraries\")\n",
        "print(\"=\" * 80)\n",
        "\n",
        "!pip install -q -U transformers==4.45.0\n",
        "!pip install -q -U peft==0.13.0\n",
        "!pip install -q -U accelerate==0.34.0\n",
        "!pip install -q -U bitsandbytes==0.44.0\n",
        "!pip install -q -U datasets==3.0.0\n",
        "!pip install -q -U trl==0.11.0\n",
        "\n",
        "print(\"\\nAll libraries installed successfully!\\n\")"
      ],
      "metadata": {
        "colab": {
          "base_uri": "https://localhost:8080/"
        },
        "id": "DgXYRA1yIKiM",
        "outputId": "811cace4-82b0-4b53-d7f4-223966411cd0"
      },
      "execution_count": null,
      "outputs": [
        {
          "output_type": "stream",
          "name": "stdout",
          "text": [
            "================================================================================\n",
            "SECTION 1: Installing Required Libraries\n",
            "================================================================================\n",
            "\u001b[2K   \u001b[90m━━━━━━━━━━━━━━━━━━━━━━━━━━━━━━━━━━━━━━━━\u001b[0m \u001b[32m122.4/122.4 MB\u001b[0m \u001b[31m7.6 MB/s\u001b[0m eta \u001b[36m0:00:00\u001b[0m\n",
            "\u001b[2K   \u001b[90m━━━━━━━━━━━━━━━━━━━━━━━━━━━━━━━━━━━━━━━━\u001b[0m \u001b[32m316.4/316.4 kB\u001b[0m \u001b[31m9.4 MB/s\u001b[0m eta \u001b[36m0:00:00\u001b[0m\n",
            "\u001b[?25h\n",
            "All libraries installed successfully!\n",
            "\n"
          ]
        }
      ]
    },
    {
      "cell_type": "code",
      "source": [
        "print(\"=\" * 80)\n",
        "print(\"SECTION 2: Importing Libraries\")\n",
        "print(\"=\" * 80)\n",
        "\n",
        "import torch\n",
        "import pandas as pd\n",
        "import numpy as np\n",
        "from datasets import Dataset\n",
        "from transformers import (\n",
        "    AutoModelForCausalLM,\n",
        "    AutoTokenizer,\n",
        "    BitsAndBytesConfig,\n",
        "    TrainingArguments\n",
        ")\n",
        "from peft import LoraConfig, get_peft_model, prepare_model_for_kbit_training\n",
        "from trl import SFTTrainer\n",
        "import gc\n",
        "import matplotlib.pyplot as plt\n",
        "\n",
        "print(f\"PyTorch version: {torch.__version__}\")\n",
        "print(f\"CUDA available: {torch.cuda.is_available()}\")\n",
        "if torch.cuda.is_available():\n",
        "    print(f\"CUDA device: {torch.cuda.get_device_name(0)}\")\n",
        "    print(f\"GPU memory: {torch.cuda.get_device_properties(0).total_memory / 1e9:.2f} GB\")\n",
        "\n",
        "print(\"\\nImports completed!\\n\")"
      ],
      "metadata": {
        "colab": {
          "base_uri": "https://localhost:8080/"
        },
        "id": "voOGqVr4ITsg",
        "outputId": "c1dab4b5-a432-4de3-9a54-40b00d2028e3"
      },
      "execution_count": null,
      "outputs": [
        {
          "output_type": "stream",
          "name": "stdout",
          "text": [
            "================================================================================\n",
            "SECTION 2: Importing Libraries\n",
            "================================================================================\n",
            "PyTorch version: 2.8.0+cu126\n",
            "CUDA available: True\n",
            "CUDA device: Tesla T4\n",
            "GPU memory: 15.83 GB\n",
            "\n",
            "Imports completed!\n",
            "\n"
          ]
        }
      ]
    },
    {
      "cell_type": "code",
      "source": [],
      "metadata": {
        "id": "_q2U3utrIvtP"
      },
      "execution_count": null,
      "outputs": []
    },
    {
      "cell_type": "code",
      "source": [],
      "metadata": {
        "id": "TB_-vcedIN4W"
      },
      "execution_count": null,
      "outputs": []
    }
  ]
}